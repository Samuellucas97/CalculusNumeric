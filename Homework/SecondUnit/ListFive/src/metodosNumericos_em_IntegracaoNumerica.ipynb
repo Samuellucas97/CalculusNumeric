{
 "cells": [
  {
   "cell_type": "markdown",
   "metadata": {},
   "source": [
    "# Métodos numéricos em _Integração numérica_\n",
    "\n",
    "### Autor   \n",
    "_Samuel Lucas de Moura Ferino_ ( samuellucas97@ufrn.edu.br )  \n",
    "IMD/UFRN 2019.   "
   ]
  },
  {
   "cell_type": "markdown",
   "metadata": {},
   "source": [
    "## Introdução\n",
    "\n",
    "\n",
    "Tendo em vista que queremos calcular $\\int_{-5}^{5}  \\! x sen(x) \\, dx$ , utilizaremos os seguintes métodos numéricos:  \n",
    "* [Método do trapézio](método-do-trapézio) \n",
    "* [Método 1/3 de Simpson](metodo-1/3-de-simpson)\n",
    "* [Método 3/8 de Simpson](metodo-3/8-de-simpson)\n",
    "\n",
    "*Obs.: O valor resultante do cálculo da respectiva integral definida é $-10cos(5) +2sen(5) \\approx -4.75447 $.*"
   ]
  },
  {
   "cell_type": "code",
   "execution_count": 27,
   "metadata": {},
   "outputs": [
    {
     "name": "stdout",
     "output_type": "stream",
     "text": [
      "Confirmando que o resultado do cálculo dessa integral é -4.754470403958539\n"
     ]
    }
   ],
   "source": [
    "from scipy.integrate import quad\n",
    "from numpy import sin\n",
    "\n",
    "print( \"Confirmando que o resultado do cálculo dessa integral é \" + str( quad( lambda x: x*sin(x), -5, 5 )[0] ) )"
   ]
  },
  {
   "cell_type": "markdown",
   "metadata": {},
   "source": [
    "## Método do trapézio"
   ]
  },
  {
   "cell_type": "code",
   "execution_count": 44,
   "metadata": {},
   "outputs": [
    {
     "name": "stdout",
     "output_type": "stream",
     "text": [
      "Aproximação obtida: -4.578413222188408\n"
     ]
    }
   ],
   "source": [
    "def compositeTrapezoidMethod( function_f, a,  b, numberOfIntervals = 6):\n",
    "    \"\"\"\n",
    "    Numerical integration using the composite trapezoid Rule.\n",
    "\n",
    "    integral = compositeTrapezoidMethod(function_f, a, b, numberOfIntervals = 6)\n",
    "\n",
    "    INPUT:\n",
    "      * function_f: function to be integrated\n",
    "      * a: beginning of integration interval\n",
    "      * b: end of integration interval\n",
    "      * numberOfIntervals: number of interval divisions\n",
    "\n",
    "    return: \\int_{a}^{b} f(x)\n",
    "\n",
    "    Author: Samuel Lucas\n",
    "    \n",
    "    April 2019\n",
    "    \"\"\"\n",
    "    h = (b - a) / numberOfIntervals \n",
    "    return (h/2)*( function_f(a) + sum([ 2*function_f(a + i*h) for i in range(1, numberOfIntervals) ]) + function_f(b) )\n",
    "\n",
    "print( \"Aproximação obtida: \"+ str(compositeTrapezoidMethod( lambda x: x*sin(x), -5, 5 ) ) )"
   ]
  },
  {
   "cell_type": "markdown",
   "metadata": {},
   "source": [
    "## Método 1/3 de Simpson"
   ]
  },
  {
   "cell_type": "code",
   "execution_count": 40,
   "metadata": {},
   "outputs": [
    {
     "name": "stdout",
     "output_type": "stream",
     "text": [
      "Aproximação obtida: -4.46389002127735\n"
     ]
    }
   ],
   "source": [
    "def methodSimpson1_3(function_f, a, b, numberOfIntervals = 6):\n",
    "    \"\"\"\n",
    "    Numerical integration using the Simpson 1/3 Rule.\n",
    "\n",
    "    integral = methodSimpson1_3(function_f, a, b, numberOfIntervals = 6)\n",
    "\n",
    "    INPUT:\n",
    "      * function_f: function to be integrated\n",
    "      * a: beginning of integration interval\n",
    "      * b: end of integration interval\n",
    "      * numberOfIntervals: number of interval divisions\n",
    "\n",
    "    return: \\int_{a}^{b} f(x)\n",
    "\n",
    "    Author: Samuel Lucas\n",
    "    \n",
    "    April 2019\n",
    "    \"\"\"\n",
    "    h = (b - a) / numberOfIntervals\n",
    "    return (h/3)*( function_f(a) + sum([ 2*function_f(a + i*h) if i%2 == 0 else 4*function_f(a + i*h) for i in range(1, numberOfIntervals) ]) + function_f(b) )\n",
    "\n",
    "print( \"Aproximação obtida: \"+ str(methodSimpson1_3( lambda x: x*sin(x), -5, 5 ) ) )"
   ]
  },
  {
   "cell_type": "markdown",
   "metadata": {},
   "source": [
    "## Método 3/8 de Simpson"
   ]
  },
  {
   "cell_type": "code",
   "execution_count": 70,
   "metadata": {},
   "outputs": [
    {
     "name": "stdout",
     "output_type": "stream",
     "text": [
      "-4.794621373315692\n",
      "6.1427203200079425\n",
      "Aproximação obtida: -2.1540765166396514\n"
     ]
    }
   ],
   "source": [
    "def methodSimpson3_8(function_f, a, b, numberOfIntervals = 6):\n",
    "    h = (b - a) / numberOfIntervals\n",
    "    return ((3*h)/8)*( function_f(a) + sum([ 2*function_f(a + i*h) if i%3 == 0 else 3*function_f(a + i*h) for i in range(1, numberOfIntervals) ]) + function_f(b) )\n",
    "\n",
    "print( \"Aproximação obtida: \"+ str(methodSimpson3_8( lambda x: x*sin(x), -5, 5 ) ) )"
   ]
  }
 ],
 "metadata": {
  "kernelspec": {
   "display_name": "Python 3",
   "language": "python",
   "name": "python3"
  },
  "language_info": {
   "codemirror_mode": {
    "name": "ipython",
    "version": 3
   },
   "file_extension": ".py",
   "mimetype": "text/x-python",
   "name": "python",
   "nbconvert_exporter": "python",
   "pygments_lexer": "ipython3",
   "version": "3.6.7"
  }
 },
 "nbformat": 4,
 "nbformat_minor": 2
}
